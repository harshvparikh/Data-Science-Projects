{
 "cells": [
  {
   "cell_type": "markdown",
   "metadata": {},
   "source": [
    "# HARSH PARIKH\n"
   ]
  },
  {
   "cell_type": "markdown",
   "metadata": {},
   "source": [
    "## LINEAR REGRESSION WITH TWO VARIABLES\n",
    "In this task, we will perform linear regression on a dataset containing the number of hours a student studies for (independent variable) and the marks that particular student scores (dependent variable). This will help us predict the marks a student is expected to score based on the number of hours he/she studies for."
   ]
  },
  {
   "cell_type": "markdown",
   "metadata": {},
   "source": [
    "### LIBRARIES USED\n",
    "#### scikit-learn:\n",
    "This will help us train and test the model, devise the regressor and thus use our dataset to create a prediction model using linear regression. It'll also help us measure the accuracy of our model.\n",
    "#### pandas:\n",
    "This library will help us in the handling and manipulation of our dataset.\n",
    "#### matlpotlib:\n",
    "This library will help us visualize, hence, better understand our data."
   ]
  },
  {
   "cell_type": "markdown",
   "metadata": {},
   "source": [
    "Step 1: Let's import all the modules and functions that we'll be needing."
   ]
  },
  {
   "cell_type": "code",
   "execution_count": 1,
   "metadata": {},
   "outputs": [],
   "source": [
    "import pandas as pd\n",
    "import matplotlib.pyplot as plt\n",
    "from sklearn.model_selection import train_test_split\n",
    "from sklearn.linear_model import LinearRegression\n",
    "from sklearn import metrics\n",
    "from sklearn.metrics import r2_score\n",
    "%matplotlib inline"
   ]
  },
  {
   "cell_type": "markdown",
   "metadata": {},
   "source": [
    "Step 2: Import the study dataset which is a comma separated file and convert it into a pandas dataframe. Get familiar with the data and check it's integrity."
   ]
  },
  {
   "cell_type": "code",
   "execution_count": 2,
   "metadata": {},
   "outputs": [
    {
     "name": "stdout",
     "output_type": "stream",
     "text": [
      "   Hours  Scores\n",
      "0    2.5      21\n",
      "1    5.1      47\n",
      "2    3.2      27\n",
      "3    8.5      75\n",
      "4    3.5      30\n",
      "Number of null values in each column:\n",
      "Hours     0\n",
      "Scores    0\n",
      "dtype: int64\n",
      "(25, 2)\n"
     ]
    }
   ],
   "source": [
    "url = 'http://bit.ly/w-data'\n",
    "study_data = pd.read_csv(url)\n",
    "print(study_data.head())\n",
    "print('Number of null values in each column:')\n",
    "print(study_data.isnull().sum())\n",
    "print(study_data.shape)"
   ]
  },
  {
   "cell_type": "markdown",
   "metadata": {},
   "source": [
    "Step 3: Let's visualize our data to understand the correlation between hours studied per day (X) and marks obtained (Y)."
   ]
  },
  {
   "cell_type": "code",
   "execution_count": 3,
   "metadata": {},
   "outputs": [
    {
     "data": {
      "image/png": "[encoded data removed]",
      "text/plain": [
       "<Figure size 864x468 with 1 Axes>"
      ]
     },
     "metadata": {
      "needs_background": "light"
     },
     "output_type": "display_data"
    }
   ],
   "source": [
    "study_data.plot(kind='scatter',x='Hours',y='Scores',figsize=(12,6.5),color='m')\n",
    "plt.title('Hours Studied vs Marks Obtained')\n",
    "plt.xlabel('Hours Studied (hours per day)')\n",
    "plt.ylabel('Marks Obtained (%)')\n",
    "plt.show()"
   ]
  },
  {
   "cell_type": "markdown",
   "metadata": {},
   "source": [
    "Step 4(optional): Get a feel of the correlation, these scores indicate a strong correlation!"
   ]
  },
  {
   "cell_type": "code",
   "execution_count": 4,
   "metadata": {},
   "outputs": [
    {
     "name": "stdout",
     "output_type": "stream",
     "text": [
      "           Hours    Scores\n",
      "Hours   1.000000  0.976191\n",
      "Scores  0.976191  1.000000\n"
     ]
    }
   ],
   "source": [
    "print(study_data.corr())"
   ]
  },
  {
   "cell_type": "markdown",
   "metadata": {},
   "source": [
    "Step 5: Let's get the our X and Y values ready in the form of matrices. The x matrix is reshaped so that proper matrix multiplication can take place."
   ]
  },
  {
   "cell_type": "code",
   "execution_count": 5,
   "metadata": {},
   "outputs": [
    {
     "name": "stdout",
     "output_type": "stream",
     "text": [
      "[[2.5]\n",
      " [5.1]\n",
      " [3.2]\n",
      " [8.5]\n",
      " [3.5]\n",
      " [1.5]\n",
      " [9.2]\n",
      " [5.5]\n",
      " [8.3]\n",
      " [2.7]\n",
      " [7.7]\n",
      " [5.9]\n",
      " [4.5]\n",
      " [3.3]\n",
      " [1.1]\n",
      " [8.9]\n",
      " [2.5]\n",
      " [1.9]\n",
      " [6.1]\n",
      " [7.4]\n",
      " [2.7]\n",
      " [4.8]\n",
      " [3.8]\n",
      " [6.9]\n",
      " [7.8]]\n",
      "[21 47 27 75 30 20 88 60 81 25 85 62 41 42 17 95 30 24 67 69 30 54 35 76\n",
      " 86]\n"
     ]
    }
   ],
   "source": [
    "x = study_data.iloc[:,0].values\n",
    "y = study_data.iloc[:,1].values\n",
    "x = x.reshape(-1,1)\n",
    "print(f\"{x}\\n{y}\")"
   ]
  },
  {
   "cell_type": "markdown",
   "metadata": {},
   "source": [
    "Step 6: With the help of sklearn functions we can split our data into training and testing data. We also create the regressor which calculates the slope and y-intercept of the line."
   ]
  },
  {
   "cell_type": "code",
   "execution_count": 6,
   "metadata": {},
   "outputs": [
    {
     "name": "stdout",
     "output_type": "stream",
     "text": [
      "Slope =  [9.94061514]\n",
      "Y-intercept =  1.5079104828268655\n"
     ]
    }
   ],
   "source": [
    "train_x, test_x, train_y, test_y = train_test_split(x,y,test_size=0.2,random_state=2)\n",
    "regressor = LinearRegression()\n",
    "regressor.fit(train_x,train_y)\n",
    "print('Slope = ',regressor.coef_)\n",
    "print('Y-intercept = ',regressor.intercept_)\n",
    "Y = regressor.coef_*train_x + regressor.intercept_"
   ]
  },
  {
   "cell_type": "markdown",
   "metadata": {},
   "source": [
    "###### Y = 9.94x + 1.5"
   ]
  },
  {
   "cell_type": "markdown",
   "metadata": {},
   "source": [
    "Step 7: Let's visualize how the line looks compared to the data points."
   ]
  },
  {
   "cell_type": "code",
   "execution_count": 7,
   "metadata": {},
   "outputs": [
    {
     "data": {
      "image/png": "[encoded data removed]",
      "text/plain": [
       "<Figure size 864x468 with 1 Axes>"
      ]
     },
     "metadata": {
      "needs_background": "light"
     },
     "output_type": "display_data"
    }
   ],
   "source": [
    "study_data.plot(kind='scatter',x='Hours',y='Scores',figsize=(12,6.5),color='m')\n",
    "plt.plot(train_x,Y,color='g')\n",
    "plt.title('Hours Studied vs Marks Obtained')\n",
    "plt.xlabel('Hours Studied (hours per day)')\n",
    "plt.ylabel('Marks Obtained (%)')\n",
    "plt.show()"
   ]
  },
  {
   "cell_type": "markdown",
   "metadata": {},
   "source": [
    "Step 8: Create the predicted output values for the test data. Also evaluate the accuracy of the model with the help of mean absolute error and an R2 score. Lower the MAE and closer the R2 score to 1, better the model."
   ]
  },
  {
   "cell_type": "code",
   "execution_count": 8,
   "metadata": {},
   "outputs": [
    {
     "name": "stdout",
     "output_type": "stream",
     "text": [
      "Mean Absolute Error : 4.88\n",
      "R2 Score : 0.98/1.0\n"
     ]
    }
   ],
   "source": [
    "predicted_y = regressor.predict(test_x) \n",
    "mean_abs_err = metrics.mean_absolute_error(predicted_y,test_y)\n",
    "r2 = r2_score(predicted_y,test_y)\n",
    "print(f\"Mean Absolute Error : {round(mean_abs_err,2)}\")\n",
    "print(f\"R2 Score : {round(r2,2)}/1.0\")"
   ]
  },
  {
   "cell_type": "markdown",
   "metadata": {},
   "source": [
    "Step 9: Lets see how close are our model's predicted values as compared to the actual values."
   ]
  },
  {
   "cell_type": "code",
   "execution_count": 9,
   "metadata": {},
   "outputs": [
    {
     "name": "stdout",
     "output_type": "stream",
     "text": [
      "   Actual Marks  Predicted Marks\n",
      "0            17        12.442587\n",
      "1            21        26.359448\n",
      "2            24        20.395079\n",
      "3            88        92.961570\n",
      "4            76        70.098155\n"
     ]
    },
    {
     "data": {
      "image/png": "[encoded data removed]",
      "text/plain": [
       "<Figure size 432x288 with 1 Axes>"
      ]
     },
     "metadata": {
      "needs_background": "light"
     },
     "output_type": "display_data"
    }
   ],
   "source": [
    "comparison = pd.DataFrame({'Actual Marks': test_y,'Predicted Marks': predicted_y})\n",
    "print(comparison)\n",
    "plt.scatter(x=test_x,y=test_y,c='b',marker='o',label='actual marks')\n",
    "plt.scatter(x=test_x,y=predicted_y,c='r',marker='x',label='predicted marks')\n",
    "plt.title('Hours Studied vs Marks Obtained')\n",
    "plt.xlabel('Hours Studied (hours per day)')\n",
    "plt.ylabel('Marks Obtained (%)')\n",
    "plt.legend()\n",
    "plt.show()"
   ]
  },
  {
   "cell_type": "markdown",
   "metadata": {},
   "source": [
    "Step 10: For a sample input"
   ]
  },
  {
   "cell_type": "code",
   "execution_count": 10,
   "metadata": {},
   "outputs": [
    {
     "name": "stdout",
     "output_type": "stream",
     "text": [
      "Number of hours studied per day : 9.25\n",
      "Predicted marks as per the regression model : 93.46\n"
     ]
    },
    {
     "data": {
      "image/png": "[encoded data removed]",
      "text/plain": [
       "<Figure size 432x288 with 1 Axes>"
      ]
     },
     "metadata": {
      "needs_background": "light"
     },
     "output_type": "display_data"
    }
   ],
   "source": [
    "no_of_hours = 9.25\n",
    "predicted_marks =regressor.predict([[no_of_hours]])\n",
    "print(f\"Number of hours studied per day : {no_of_hours}\")\n",
    "print(f\"Predicted marks as per the regression model : {round(predicted_marks[0],2)}\")\n",
    "plt.plot(x,regressor.coef_*x + regressor.intercept_)\n",
    "plt.scatter(no_of_hours,predicted_marks,marker='x',color='r')\n",
    "plt.show()"
   ]
  }
 ],
 "metadata": {
  "kernelspec": {
   "display_name": "Python 3",
   "language": "python",
   "name": "python3"
  },
  "language_info": {
   "codemirror_mode": {
    "name": "ipython",
    "version": 3
   },
   "file_extension": ".py",
   "mimetype": "text/x-python",
   "name": "python",
   "nbconvert_exporter": "python",
   "pygments_lexer": "ipython3",
   "version": "3.8.3"
  }
 },
 "nbformat": 4,
 "nbformat_minor": 4
}
